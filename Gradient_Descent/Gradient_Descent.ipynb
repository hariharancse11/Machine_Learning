{
 "cells": [
  {
   "cell_type": "code",
   "execution_count": 2,
   "id": "11a5fafb",
   "metadata": {},
   "outputs": [
    {
     "data": {
      "image/png": "[encoded data removed]",
      "text/plain": [
       "<IPython.core.display.Image object>"
      ]
     },
     "execution_count": 2,
     "metadata": {},
     "output_type": "execute_result"
    }
   ],
   "source": [
    "from IPython import display\n",
    "display.Image(\"./gd.png\")"
   ]
  },
  {
   "cell_type": "code",
   "execution_count": 3,
   "id": "b6d213b0",
   "metadata": {},
   "outputs": [],
   "source": [
    "import numpy as np"
   ]
  },
  {
   "cell_type": "code",
   "execution_count": 4,
   "id": "356bb96f",
   "metadata": {},
   "outputs": [],
   "source": [
    "def gradient_descent(x,y):\n",
    "    m_curr = b_curr = 0\n",
    "    iterations = 1000\n",
    "    n = len(x)\n",
    "    learning_rate = 0.08\n",
    "    \n",
    "    for i in range(iterations):\n",
    "        y_predicted = m_curr * x + b_curr\n",
    "        cost = (1/n)*sum([val**2 for val in (y-y_predicted)])\n",
    "        md = -(2/n)*sum(x*(y-y_predicted))\n",
    "        bd = -(2/n)*sum(y-y_predicted)\n",
    "        \n",
    "        m_curr = m_curr - learning_rate * md\n",
    "        b_curr = b_curr - learning_rate * bd\n",
    "        if(i>994):\n",
    "            print(\"m {}, b{}, cost{}, iterations{}\".format(m_curr, b_curr, cost, i))\n",
    "    return(\"M: {} B: {}\".format(round(m_curr),round(b_curr)))"
   ]
  },
  {
   "cell_type": "code",
   "execution_count": 5,
   "id": "afd9abf6",
   "metadata": {},
   "outputs": [
    {
     "name": "stdout",
     "output_type": "stream",
     "text": [
      "m 2.0000000000008673, b2.999999999996871, cost1.8822626673078625e-24, iterations995\n",
      "m 2.0000000000008424, b2.9999999999969553, cost1.7819635786022613e-24, iterations996\n",
      "m 2.000000000000821, b2.999999999997038, cost1.687158432784981e-24, iterations997\n",
      "m 2.0000000000007976, b2.9999999999971174, cost1.5968652558012031e-24, iterations998\n",
      "m 2.0000000000007776, b2.999999999997196, cost1.5126502520921528e-24, iterations999\n"
     ]
    },
    {
     "data": {
      "text/plain": [
       "'M: 2 B: 3'"
      ]
     },
     "execution_count": 5,
     "metadata": {},
     "output_type": "execute_result"
    }
   ],
   "source": [
    "x = np.array([1,2,3,4,5])\n",
    "y = np.array([5,7,9,11,13])\n",
    "\n",
    "gradient_descent(x,y)\n",
    "#y= 2x+3\n",
    "#y= mx+b"
   ]
  },
  {
   "cell_type": "code",
   "execution_count": 6,
   "id": "cde3d6f4",
   "metadata": {},
   "outputs": [
    {
     "name": "stdout",
     "output_type": "stream",
     "text": [
      "m 3.00000000000006, b0.9999999999997837, cost8.968717403638728e-27, iterations995\n",
      "m 3.000000000000058, b0.9999999999997895, cost8.566398341976012e-27, iterations996\n",
      "m 3.000000000000057, b0.9999999999997953, cost8.091859064440313e-27, iterations997\n",
      "m 3.000000000000055, b0.9999999999998007, cost7.571526411356533e-27, iterations998\n",
      "m 3.0000000000000537, b0.9999999999998062, cost7.175833781297673e-27, iterations999\n"
     ]
    },
    {
     "data": {
      "text/plain": [
       "'M: 3 B: 1'"
      ]
     },
     "execution_count": 6,
     "metadata": {},
     "output_type": "execute_result"
    }
   ],
   "source": [
    "# let's take another equation 3x+1\n",
    "\n",
    "a = np.array([1,2,3,4,5])\n",
    "b = np.array([4,7,10,13,16])\n",
    "\n",
    "gradient_descent(a,b)"
   ]
  }
 ],
 "metadata": {
  "kernelspec": {
   "display_name": "Python 3 (ipykernel)",
   "language": "python",
   "name": "python3"
  },
  "language_info": {
   "codemirror_mode": {
    "name": "ipython",
    "version": 3
   },
   "file_extension": ".py",
   "mimetype": "text/x-python",
   "name": "python",
   "nbconvert_exporter": "python",
   "pygments_lexer": "ipython3",
   "version": "3.9.13"
  }
 },
 "nbformat": 4,
 "nbformat_minor": 5
}
